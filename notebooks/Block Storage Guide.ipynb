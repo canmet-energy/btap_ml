{
 "cells": [
  {
   "cell_type": "markdown",
   "metadata": {},
   "source": [
    "# Connecting to S3 storage\n",
    "\n",
    "Leveraging environment settings and Pydantic to avoid hard coding blob storage related connection info."
   ]
  },
  {
   "cell_type": "code",
   "execution_count": null,
   "metadata": {
    "tags": []
   },
   "outputs": [],
   "source": [
    "from pathlib import Path\n",
    "from typing import Dict, Any\n",
    "import json\n",
    "from pydantic import BaseSettings, SecretStr, HttpUrl\n",
    "import s3fs"
   ]
  },
  {
   "cell_type": "code",
   "execution_count": null,
   "metadata": {
    "tags": []
   },
   "outputs": [],
   "source": [
    "# There's a JSON file available with your credentials in it\n",
    "def json_config_settings_source(settings: BaseSettings) -> Dict[str, Any]:\n",
    "    return json.loads(settings.__config__.json_settings_path.read_text())\n",
    "\n",
    "class Settings(BaseSettings):\n",
    "    \n",
    "    MINIO_URL: HttpUrl\n",
    "    MINIO_ACCESS_KEY: str\n",
    "    MINIO_SECRET_KEY: SecretStr\n",
    "        \n",
    "    NAMESPACE: Path = Path('nrcan-btap')\n",
    "    \n",
    "    class Config:\n",
    "        json_settings_path: Path = Path('/vault/secrets/minio-standard-tenant-1.json')\n",
    "        # Ignore extra values present in the JSON data\n",
    "        extra = 'ignore'\n",
    "        \n",
    "        @classmethod\n",
    "        def customise_sources(cls, init_settings, env_settings, file_secret_settings):\n",
    "            return (init_settings, json_config_settings_source, env_settings, file_secret_settings)\n",
    "\n",
    "settings = Settings()\n",
    "print(settings)"
   ]
  },
  {
   "cell_type": "code",
   "execution_count": null,
   "metadata": {
    "tags": []
   },
   "outputs": [],
   "source": [
    "# Establish S3 connection\n",
    "s3 = s3fs.S3FileSystem(\n",
    "    anon=False,\n",
    "    key=settings.MINIO_ACCESS_KEY,\n",
    "    secret=settings.MINIO_SECRET_KEY.get_secret_value(),\n",
    "    use_ssl=False, # Used if Minio is getting SSL verification errors.\n",
    "    client_kwargs={\n",
    "        'endpoint_url': settings.MINIO_URL,\n",
    "        'verify':False\n",
    "    }\n",
    ")\n",
    "\n",
    "# Get a list of files to prove it works\n",
    "s3.ls(settings.NAMESPACE.as_posix())\n",
    "s3.ls('nrcan-btap/input_data')"
   ]
  },
  {
   "cell_type": "markdown",
   "metadata": {
    "execution": {
     "iopub.execute_input": "2021-09-17T13:36:21.837605Z",
     "iopub.status.busy": "2021-09-17T13:36:21.837358Z",
     "iopub.status.idle": "2021-09-17T13:36:21.844048Z",
     "shell.execute_reply": "2021-09-17T13:36:21.843121Z",
     "shell.execute_reply.started": "2021-09-17T13:36:21.837581Z"
    }
   },
   "source": [
    "# Reading/writing data\n",
    "\n",
    "Use `s3.open()` in places where you would read files with the standard Python `open()`.\n",
    "\n",
    "For more info on s3fs, see https://s3fs.readthedocs.io/en/latest/"
   ]
  },
  {
   "cell_type": "code",
   "execution_count": null,
   "metadata": {
    "tags": []
   },
   "outputs": [],
   "source": [
    "with s3.open('nrcan-btap/output_data/predict_out', 'rb') as f:\n",
    "     print(f.read())\n",
    "        #nrcan-btap/input_data/output.xlsx"
   ]
  },
  {
   "cell_type": "code",
   "execution_count": null,
   "metadata": {
    "tags": []
   },
   "outputs": [],
   "source": [
    "import io\n",
    "bucket ='nrcan-btap'\n",
    "path='output_data/test_out'\n",
    "data = {'features':['teast','etsd']}\n",
    "with s3.open('nrcan-btap/output_data/test_out', 'wb') as f:\n",
    "            data_json = json.dumps(data).encode('utf-8')\n",
    "            csv_buffer = io.BytesIO(data_json)\n",
    "            f.write(data_json)\n",
    "            #f.write(2*2**20 * b'a')\n",
    "            #f.write(csv_buffer)    "
   ]
  },
  {
   "cell_type": "code",
   "execution_count": null,
   "metadata": {},
   "outputs": [],
   "source": []
  }
 ],
 "metadata": {
  "kernelspec": {
   "display_name": "Python 3",
   "language": "python",
   "name": "python3"
  },
  "language_info": {
   "codemirror_mode": {
    "name": "ipython",
    "version": 3
   },
   "file_extension": ".py",
   "mimetype": "text/x-python",
   "name": "python",
   "nbconvert_exporter": "python",
   "pygments_lexer": "ipython3",
   "version": "3.8.8"
  }
 },
 "nbformat": 4,
 "nbformat_minor": 4
}
