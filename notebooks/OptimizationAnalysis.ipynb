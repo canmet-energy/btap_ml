{
 "cells": [
  {
   "cell_type": "markdown",
   "metadata": {},
   "source": [
    "# BTAP_ML Phase 3, Task 2 Analytics\n",
    "\n",
    "**Description**    \n",
    "This notebook provides the ability to analyze the results from a set of training tests which have been performed. This requires a directory to exist which contains the set of *.json* output files."
   ]
  },
  {
   "cell_type": "code",
   "execution_count": null,
   "metadata": {
    "tags": []
   },
   "outputs": [],
   "source": [
    "import pandas as pd\n",
    "import numpy as np\n",
    "import os\n",
    "import math\n",
    "import random\n",
    "import json\n",
    "import csv"
   ]
  },
  {
   "cell_type": "code",
   "execution_count": null,
   "metadata": {
    "tags": []
   },
   "outputs": [],
   "source": [
    "ANALYSIS_FOLDER = \"../../btap-gpu-vol-1/btap_tests/_task2/\""
   ]
  },
  {
   "cell_type": "code",
   "execution_count": null,
   "metadata": {
    "tags": []
   },
   "outputs": [],
   "source": [
    "CSV_HEADERS = [\n",
    "    \"activation\",\n",
    "    \"learning_rate\",\n",
    "    \"batch_size\",\n",
    "    \"layers\",\n",
    "    \"dropout\",\n",
    "    \"daily_test_mse\",\n",
    "    \"daily_test_rmse\",\n",
    "    \"daily_test_mae\",\n",
    "    \"daily_test_mape\",\n",
    "    \"daily_val_mse\",\n",
    "    \"daily_val_rmse\",\n",
    "    \"daily_val_mae\",\n",
    "    \"daily_val_mape\",\n",
    "    \"annual_test_mse\",\n",
    "    \"annual_test_rmse\",\n",
    "    \"annual_test_mae\",\n",
    "    \"annual_test_mape\",\n",
    "    \"annual_val_mse\",\n",
    "    \"annual_val_rmse\",\n",
    "    \"annual_val_mae\",\n",
    "    \"annual_val_mape\"\n",
    "]"
   ]
  },
  {
   "cell_type": "code",
   "execution_count": null,
   "metadata": {
    "scrolled": true,
    "tags": []
   },
   "outputs": [],
   "source": [
    "df = pd.DataFrame(columns=CSV_HEADERS)\n",
    "# Go through each analysis file\n",
    "for filename in os.listdir(ANALYSIS_FOLDER):\n",
    "    if \".json\" in filename:\n",
    "        with open(ANALYSIS_FOLDER + filename, 'r', encoding='utf-8') as json_contents:\n",
    "            print(\"Loading file:\", ANALYSIS_FOLDER + filename)\n",
    "            analysis_json = json.load(json_contents)\n",
    "            # Decompose the filename\n",
    "            filename_split = filename.replace(\".json\", \"\").split(\"_\")\n",
    "            activation, learning_rate, batch_size, layers, dropout = filename_split[1], filename_split[2], filename_split[3], filename_split[4], filename_split[5]\n",
    "            df.loc[len(df.index)] = [activation,\n",
    "                                     learning_rate,\n",
    "                                     batch_size,\n",
    "                                     layers,\n",
    "                                     dropout,\n",
    "                                     analysis_json[\"test_daily_metric\"][\"mse\"],\n",
    "                                     analysis_json[\"test_daily_metric\"][\"rmse\"],\n",
    "                                     analysis_json[\"test_daily_metric\"][\"mae\"],\n",
    "                                     analysis_json[\"test_daily_metric\"][\"mape\"],\n",
    "                                     analysis_json[\"val_daily_metric\"][\"mse\"],\n",
    "                                     analysis_json[\"val_daily_metric\"][\"rmse\"],\n",
    "                                     analysis_json[\"val_daily_metric\"][\"mae\"],\n",
    "                                     analysis_json[\"val_daily_metric\"][\"mape\"],\n",
    "                                     analysis_json[\"test_annual_metric\"][\"mse\"],\n",
    "                                     analysis_json[\"test_annual_metric\"][\"rmse\"],\n",
    "                                     analysis_json[\"test_annual_metric\"][\"mae\"],\n",
    "                                     analysis_json[\"test_annual_metric\"][\"mape\"],\n",
    "                                     analysis_json[\"val_annual_metric\"][\"mse\"],\n",
    "                                     analysis_json[\"val_annual_metric\"][\"rmse\"],\n",
    "                                     analysis_json[\"val_annual_metric\"][\"mae\"],\n",
    "                                     analysis_json[\"val_annual_metric\"][\"mape\"]\n",
    "                                    ]"
   ]
  },
  {
   "cell_type": "code",
   "execution_count": null,
   "metadata": {
    "tags": []
   },
   "outputs": [],
   "source": [
    "pd.set_option('display.max_columns', None)\n",
    "df.head(5)"
   ]
  },
  {
   "cell_type": "code",
   "execution_count": null,
   "metadata": {
    "tags": []
   },
   "outputs": [],
   "source": [
    "df.sort_values(['annual_val_rmse'], ascending=[True]).head(60)"
   ]
  },
  {
   "cell_type": "code",
   "execution_count": null,
   "metadata": {},
   "outputs": [],
   "source": []
  }
 ],
 "metadata": {
  "kernelspec": {
   "display_name": "Python 3",
   "language": "python",
   "name": "python3"
  },
  "language_info": {
   "codemirror_mode": {
    "name": "ipython",
    "version": 3
   },
   "file_extension": ".py",
   "mimetype": "text/x-python",
   "name": "python",
   "nbconvert_exporter": "python",
   "pygments_lexer": "ipython3",
   "version": "3.8.12"
  }
 },
 "nbformat": 4,
 "nbformat_minor": 4
}
