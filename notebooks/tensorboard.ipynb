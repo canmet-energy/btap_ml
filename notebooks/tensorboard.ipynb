{
 "cells": [
  {
   "cell_type": "code",
   "execution_count": 1,
   "metadata": {
    "execution": {
     "iopub.execute_input": "2022-04-25T15:44:57.913599Z",
     "iopub.status.busy": "2022-04-25T15:44:57.913410Z",
     "iopub.status.idle": "2022-04-25T15:44:57.967599Z",
     "shell.execute_reply": "2022-04-25T15:44:57.967032Z",
     "shell.execute_reply.started": "2022-04-25T15:44:57.913543Z"
    },
    "tags": []
   },
   "outputs": [],
   "source": [
    "import tensorboard"
   ]
  },
  {
   "cell_type": "code",
   "execution_count": 2,
   "metadata": {
    "execution": {
     "iopub.execute_input": "2022-04-25T15:44:58.628755Z",
     "iopub.status.busy": "2022-04-25T15:44:58.628513Z",
     "iopub.status.idle": "2022-04-25T15:44:58.661916Z",
     "shell.execute_reply": "2022-04-25T15:44:58.661328Z",
     "shell.execute_reply.started": "2022-04-25T15:44:58.628731Z"
    },
    "tags": []
   },
   "outputs": [],
   "source": [
    "# Load the TensorBoard notebook extension\n",
    "%load_ext tensorboard"
   ]
  },
  {
   "cell_type": "code",
   "execution_count": 4,
   "metadata": {
    "execution": {
     "iopub.execute_input": "2022-04-25T15:46:23.330866Z",
     "iopub.status.busy": "2022-04-25T15:46:23.330600Z",
     "iopub.status.idle": "2022-04-25T15:46:23.338505Z",
     "shell.execute_reply": "2022-04-25T15:46:23.337885Z",
     "shell.execute_reply.started": "2022-04-25T15:46:23.330833Z"
    },
    "tags": []
   },
   "outputs": [
    {
     "data": {
      "text/plain": [
       "Reusing TensorBoard on port 6006 (pid 5018), started 0:01:08 ago. (Use '!kill 5018' to kill it.)"
      ]
     },
     "metadata": {},
     "output_type": "display_data"
    },
    {
     "data": {
      "text/html": [
       "\n",
       "      <iframe id=\"tensorboard-frame-9daf66fed07a10c0\" width=\"100%\" height=\"800\" frameborder=\"0\">\n",
       "      </iframe>\n",
       "      <script>\n",
       "        (function() {\n",
       "          const frame = document.getElementById(\"tensorboard-frame-9daf66fed07a10c0\");\n",
       "          const url = new URL(\"/\", window.location);\n",
       "          const port = 6006;\n",
       "          if (port) {\n",
       "            url.port = port;\n",
       "          }\n",
       "          frame.src = url;\n",
       "        })();\n",
       "      </script>\n",
       "    "
      ],
      "text/plain": [
       "<IPython.core.display.HTML object>"
      ]
     },
     "metadata": {},
     "output_type": "display_data"
    }
   ],
   "source": [
    "%tensorboard --logdir  ../output/parameter_search/btap/\n",
    "#https://kubeflow.aaw.cloud.statcan.ca/notebook/nrcan-btap/reg-cpu-notebook/proxy/6007/"
   ]
  },
  {
   "cell_type": "code",
   "execution_count": null,
   "metadata": {},
   "outputs": [],
   "source": []
  }
 ],
 "metadata": {
  "kernelspec": {
   "display_name": "Python 3",
   "language": "python",
   "name": "python3"
  },
  "language_info": {
   "codemirror_mode": {
    "name": "ipython",
    "version": 3
   },
   "file_extension": ".py",
   "mimetype": "text/x-python",
   "name": "python",
   "nbconvert_exporter": "python",
   "pygments_lexer": "ipython3",
   "version": "3.8.12"
  }
 },
 "nbformat": 4,
 "nbformat_minor": 4
}
