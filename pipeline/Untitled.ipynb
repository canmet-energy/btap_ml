{
 "cells": [
  {
   "cell_type": "code",
   "execution_count": 1,
   "metadata": {
    "execution": {
     "iopub.execute_input": "2021-10-29T19:38:15.582346Z",
     "iopub.status.busy": "2021-10-29T19:38:15.582007Z",
     "iopub.status.idle": "2021-10-29T19:38:16.336704Z",
     "shell.execute_reply": "2021-10-29T19:38:16.336116Z",
     "shell.execute_reply.started": "2021-10-29T19:38:15.582260Z"
    }
   },
   "outputs": [],
   "source": [
    "import os\n",
    "import kfp\n",
    "import json\n",
    "import pipeline as pl"
   ]
  },
  {
   "cell_type": "code",
   "execution_count": 2,
   "metadata": {
    "execution": {
     "iopub.execute_input": "2021-10-29T19:38:16.337925Z",
     "iopub.status.busy": "2021-10-29T19:38:16.337680Z",
     "iopub.status.idle": "2021-10-29T19:38:16.347482Z",
     "shell.execute_reply": "2021-10-29T19:38:16.347028Z",
     "shell.execute_reply.started": "2021-10-29T19:38:16.337900Z"
    },
    "tags": []
   },
   "outputs": [
    {
     "data": {
      "text/plain": [
       "environ{'SHELL': '/bin/bash',\n",
       "        'KUBERNETES_SERVICE_PORT_HTTPS': '443',\n",
       "        'ML_PIPELINE_VISUALIZATIONSERVER_PORT_8888_TCP_PROTO': 'tcp',\n",
       "        'KUBERNETES_SERVICE_PORT': '443',\n",
       "        'MINIFORGE_VERSION': '4.10.0-0',\n",
       "        'HOSTNAME': 'btap-0',\n",
       "        'LANGUAGE': 'en_US.UTF-8',\n",
       "        'ML_PIPELINE_VISUALIZATIONSERVER_SERVICE_PORT': '8888',\n",
       "        'BTAP_SERVICE_HOST': '10.135.89.44',\n",
       "        'XDG_DATA_HOME': '/etc/share',\n",
       "        'NB_UID': '1000',\n",
       "        'JULIA_PKGDIR': '/opt/julia',\n",
       "        'ML_PIPELINE_UI_ARTIFACT_PORT_80_TCP': 'tcp://10.135.215.33:80',\n",
       "        'PWD': '/home/jovyan',\n",
       "        'NB_PREFIX': '/notebook/nrcan-btap/btap',\n",
       "        'BTAP_PORT_80_TCP_PORT': '80',\n",
       "        'BTAP_PORT': 'tcp://10.135.89.44:80',\n",
       "        'KF_LANG': 'en',\n",
       "        'HOME': '/home/jovyan',\n",
       "        'LANG': 'en_US.utf8',\n",
       "        'KUBERNETES_PORT_443_TCP': 'tcp://10.135.0.1:443',\n",
       "        'ML_PIPELINE_UI_ARTIFACT_PORT_80_TCP_ADDR': '10.135.215.33',\n",
       "        'NB_GID': '100',\n",
       "        'BTAP_PORT_80_TCP': 'tcp://10.135.89.44:80',\n",
       "        'ML_PIPELINE_VISUALIZATIONSERVER_PORT_8888_TCP_PORT': '8888',\n",
       "        'ML_PIPELINE_VISUALIZATIONSERVER_PORT_8888_TCP': 'tcp://10.135.115.212:8888',\n",
       "        'JULIA_VERSION': '1.6.0',\n",
       "        'BTAP_PORT_80_TCP_ADDR': '10.135.89.44',\n",
       "        'XDG_CACHE_HOME': '/home/jovyan/.cache/',\n",
       "        'ML_PIPELINE_VISUALIZATIONSERVER_SERVICE_PORT_HTTP': '8888',\n",
       "        'GIT_EXAMPLE_NOTEBOOKS': 'https://github.com/statcan/jupyter-notebooks',\n",
       "        'RSERVER_WWW_ROOT_PATH': '/notebook/nrcan-btap/btap/rstudio',\n",
       "        'SHLVL': '1',\n",
       "        'CONDA_DIR': '/opt/conda',\n",
       "        'KUBERNETES_PORT_443_TCP_PROTO': 'tcp',\n",
       "        'JULIA_DEPOT_PATH': '/opt/julia',\n",
       "        'ML_PIPELINE_UI_ARTIFACT_PORT_80_TCP_PROTO': 'tcp',\n",
       "        'ML_PIPELINE_VISUALIZATIONSERVER_PORT_8888_TCP_ADDR': '10.135.115.212',\n",
       "        'SERVICE_URL': 'https://extensions.coder.com/api',\n",
       "        'KUBERNETES_PORT_443_TCP_ADDR': '10.135.0.1',\n",
       "        'ML_PIPELINE_VISUALIZATIONSERVER_PORT': 'tcp://10.135.115.212:8888',\n",
       "        'ML_PIPELINE_UI_ARTIFACT_SERVICE_HOST': '10.135.215.33',\n",
       "        'ML_PIPELINE_UI_ARTIFACT_PORT_80_TCP_PORT': '80',\n",
       "        'ML_PIPELINE_UI_ARTIFACT_SERVICE_PORT_HTTP': '80',\n",
       "        'ML_PIPELINE_VISUALIZATIONSERVER_SERVICE_HOST': '10.135.115.212',\n",
       "        'ML_PIPELINE_UI_ARTIFACT_PORT': 'tcp://10.135.215.33:80',\n",
       "        'CONDA_VERSION': '4.10.0',\n",
       "        'BTAP_SERVICE_PORT': '80',\n",
       "        'NB_USER': 'jovyan',\n",
       "        'KUBERNETES_SERVICE_HOST': '10.135.0.1',\n",
       "        'LC_ALL': 'en_US.UTF-8',\n",
       "        'DEFAULT_JUPYTER_URL': '/lab',\n",
       "        'KUBERNETES_PORT': 'tcp://10.135.0.1:443',\n",
       "        'KUBERNETES_PORT_443_TCP_PORT': '443',\n",
       "        'BTAP_PORT_80_TCP_PROTO': 'tcp',\n",
       "        'PATH': '/home/jovyan/.local/bin/:/opt/conda/bin:/usr/local/sbin:/usr/local/bin:/usr/sbin:/usr/bin:/sbin:/bin',\n",
       "        'ML_PIPELINE_UI_ARTIFACT_SERVICE_PORT': '80',\n",
       "        'DEBIAN_FRONTEND': 'noninteractive',\n",
       "        'BTAP_SERVICE_PORT_HTTP_BTAP': '80',\n",
       "        '_': '/opt/conda/bin/jupyter',\n",
       "        'GIT_PYTHON_REFRESH': 'quiet',\n",
       "        'PYTHONUNBUFFERED': '1',\n",
       "        'JPY_PARENT_PID': '15',\n",
       "        'TERM': 'xterm-color',\n",
       "        'CLICOLOR': '1',\n",
       "        'PAGER': 'cat',\n",
       "        'GIT_PAGER': 'cat',\n",
       "        'MPLBACKEND': 'module://ipykernel.pylab.backend_inline'}"
      ]
     },
     "execution_count": 2,
     "metadata": {},
     "output_type": "execute_result"
    }
   ],
   "source": [
    "os.environ"
   ]
  },
  {
   "cell_type": "code",
   "execution_count": 3,
   "metadata": {
    "execution": {
     "iopub.execute_input": "2021-10-29T19:38:16.348510Z",
     "iopub.status.busy": "2021-10-29T19:38:16.348352Z",
     "iopub.status.idle": "2021-10-29T19:38:16.455389Z",
     "shell.execute_reply": "2021-10-29T19:38:16.454705Z",
     "shell.execute_reply.started": "2021-10-29T19:38:16.348491Z"
    },
    "tags": []
   },
   "outputs": [
    {
     "name": "stderr",
     "output_type": "stream",
     "text": [
      "ERROR:root:Failed to read a token from file '/var/run/secrets/kubeflow/pipelines/token' ([Errno 2] No such file or directory: '/var/run/secrets/kubeflow/pipelines/token').\n",
      "WARNING:root:Failed to set up default credentials. Proceeding without credentials...\n"
     ]
    }
   ],
   "source": [
    "build_param =\"\"\n",
    "client = kfp.Client()"
   ]
  },
  {
   "cell_type": "code",
   "execution_count": 8,
   "metadata": {
    "execution": {
     "iopub.execute_input": "2021-10-29T19:41:50.250754Z",
     "iopub.status.busy": "2021-10-29T19:41:50.250488Z",
     "iopub.status.idle": "2021-10-29T19:41:50.254426Z",
     "shell.execute_reply": "2021-10-29T19:41:50.253822Z",
     "shell.execute_reply.started": "2021-10-29T19:41:50.250730Z"
    },
    "tags": []
   },
   "outputs": [],
   "source": [
    "arguments={\n",
    "#           \"tenant\":\"standard\",\n",
    "            \"minio_tenant\" : \"standard\",\n",
    "            \"bucket\":\"nrcan-btap\",\n",
    "            \"build_params\":\"input_data/output_2021-10-04.xlsx\",\n",
    "            \"energy_hour\":\"input_data/total_hourly_res_2021-10-04.csv\",\n",
    "            \"weather\":\"input_data/montreal_epw.csv\",\n",
    "            \"build_params_val\":\"input_data/output.xlsx\",\n",
    "            \"energy_hour_val\":\"input_data/total_hourly_res.csv\",\n",
    "            \"output_path\":\"output_data/preprocessing_out\",\n",
    "            \"featureestimator\":\"output_data/feature_out\",\n",
    "            \"featureoutput_path\": \"lasso\",               \n",
    "            \"param_search\":\"no\"\n",
    "              }"
   ]
  },
  {
   "cell_type": "code",
   "execution_count": 9,
   "metadata": {
    "execution": {
     "iopub.execute_input": "2021-10-29T19:41:50.826625Z",
     "iopub.status.busy": "2021-10-29T19:41:50.826354Z",
     "iopub.status.idle": "2021-10-29T19:41:50.829714Z",
     "shell.execute_reply": "2021-10-29T19:41:50.829141Z",
     "shell.execute_reply.started": "2021-10-29T19:41:50.826599Z"
    },
    "tags": []
   },
   "outputs": [],
   "source": [
    "client._context_setting['namespace'] ='nrcan-btap'"
   ]
  },
  {
   "cell_type": "code",
   "execution_count": 10,
   "metadata": {
    "execution": {
     "iopub.execute_input": "2021-10-29T19:41:51.218180Z",
     "iopub.status.busy": "2021-10-29T19:41:51.217901Z",
     "iopub.status.idle": "2021-10-29T19:41:51.220881Z",
     "shell.execute_reply": "2021-10-29T19:41:51.220287Z",
     "shell.execute_reply.started": "2021-10-29T19:41:51.218155Z"
    },
    "tags": []
   },
   "outputs": [],
   "source": [
    "# tenant:str,bucket:str,build_params:str,energy_hour:str,weather:str,build_params_val:str,energy_hour_val:str,\n",
    "#                   output_path:str,featureestimator:str,featureoutput_path:str,param_search:str"
   ]
  },
  {
   "cell_type": "code",
   "execution_count": 11,
   "metadata": {
    "execution": {
     "iopub.execute_input": "2021-10-29T19:41:51.787524Z",
     "iopub.status.busy": "2021-10-29T19:41:51.787268Z",
     "iopub.status.idle": "2021-10-29T19:41:52.346229Z",
     "shell.execute_reply": "2021-10-29T19:41:52.345638Z",
     "shell.execute_reply.started": "2021-10-29T19:41:51.787501Z"
    },
    "tags": []
   },
   "outputs": [
    {
     "data": {
      "text/html": [
       "<a href=\"/pipeline/#/experiments/details/7eedf7fa-cd59-4c0b-b284-8aeaf28afc48\" target=\"_blank\" >Experiment details</a>."
      ],
      "text/plain": [
       "<IPython.core.display.HTML object>"
      ]
     },
     "metadata": {},
     "output_type": "display_data"
    },
    {
     "data": {
      "text/html": [
       "<a href=\"/pipeline/#/runs/details/d2d9d99d-ee09-47a1-9d2d-66ad07815693\" target=\"_blank\" >Run details</a>."
      ],
      "text/plain": [
       "<IPython.core.display.HTML object>"
      ]
     },
     "metadata": {},
     "output_type": "display_data"
    },
    {
     "data": {
      "text/plain": [
       "RunPipelineResult(run_id=d2d9d99d-ee09-47a1-9d2d-66ad07815693)"
      ]
     },
     "execution_count": 11,
     "metadata": {},
     "output_type": "execute_result"
    }
   ],
   "source": [
    "client.create_run_from_pipeline_func(\n",
    "    pl.btap_pipeline,\n",
    "    arguments=arguments, \n",
    "    experiment_name='experiment_name', \n",
    "    run_name='run_name',\n",
    "    \n",
    "\n",
    "    )\n"
   ]
  },
  {
   "cell_type": "code",
   "execution_count": null,
   "metadata": {},
   "outputs": [],
   "source": []
  }
 ],
 "metadata": {
  "kernelspec": {
   "display_name": "Python 3",
   "language": "python",
   "name": "python3"
  },
  "language_info": {
   "codemirror_mode": {
    "name": "ipython",
    "version": 3
   },
   "file_extension": ".py",
   "mimetype": "text/x-python",
   "name": "python",
   "nbconvert_exporter": "python",
   "pygments_lexer": "ipython3",
   "version": "3.8.8"
  }
 },
 "nbformat": 4,
 "nbformat_minor": 4
}
